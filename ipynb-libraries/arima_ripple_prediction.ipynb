{
 "cells": [
  {
   "cell_type": "markdown",
   "id": "ca726b0c",
   "metadata": {},
   "source": [
    "# ARIMA Model Prediction for Ripple Close Prices\n",
    "This notebook presents the process of predicting the closing price of Ripple using an ARIMA model.\n"
   ]
  },
  {
   "cell_type": "code",
   "execution_count": 1,
   "id": "3ac2890c",
   "metadata": {},
   "outputs": [
    {
     "name": "stderr",
     "output_type": "stream",
     "text": [
      "C:\\Users\\onat.postaci\\AppData\\Local\\Temp\\ipykernel_15736\\2255006850.py:12: UserWarning: Could not infer format, so each element will be parsed individually, falling back to `dateutil`. To ensure parsing is consistent and as-expected, please specify a format.\n",
      "  df = pd.read_csv(file_path, names=column_names, parse_dates=['Open time'], index_col='Open time')\n"
     ]
    }
   ],
   "source": [
    "import pandas as pd\n",
    "from statsmodels.tsa.arima.model import ARIMA\n",
    "from statsmodels.tsa.stattools import adfuller\n",
    "\n",
    "# Load the dataset\n",
    "file_path = './Merged_CSV.csv'\n",
    "column_names = ['Open time', 'Open', 'High', 'Low', 'Close', 'Volume', \n",
    "                'Close time', 'Quote asset volume', 'Number of trades', \n",
    "                'Taker buy base asset volume', 'Taker buy quote asset volume', 'Ignore']\n",
    "\n",
    "# Read the data while parsing the first column as datetime and setting it as the index\n",
    "df = pd.read_csv(file_path, names=column_names, parse_dates=['Open time'], index_col='Open time')\n",
    "\n",
    "# Clean the data by removing rows with NaN values\n",
    "df_clean = df.dropna()\n",
    "\n",
    "# We will focus on the 'Close' price for the ARIMA model\n",
    "close_prices = df_clean['Close']\n"
   ]
  },
  {
   "cell_type": "markdown",
   "id": "7cebf6a6",
   "metadata": {},
   "source": [
    "## Check for Stationarity\n",
    "Before applying ARIMA, we need to ensure the data is stationary. This can be checked using the Augmented Dickey-Fuller test.\n"
   ]
  },
  {
   "cell_type": "code",
   "execution_count": 2,
   "id": "8c514e25",
   "metadata": {},
   "outputs": [],
   "source": [
    "# Check if the data is stationary using the Augmented Dickey-Fuller test\n",
    "adf_test = adfuller(close_prices)\n",
    "\n",
    "# If p-value > 0.05, we need to difference the data to make it stationary\n",
    "if adf_test[1] > 0.05:\n",
    "    # Differencing the data\n",
    "    close_prices_diff = close_prices.diff().dropna()\n",
    "else:\n",
    "    close_prices_diff = close_prices\n"
   ]
  },
  {
   "cell_type": "markdown",
   "id": "43754d50",
   "metadata": {},
   "source": [
    "## ARIMA Model\n",
    "We will define an ARIMA model, fit it to our data, and make a prediction.\n"
   ]
  },
  {
   "cell_type": "code",
   "execution_count": 3,
   "id": "2092bebc",
   "metadata": {},
   "outputs": [
    {
     "name": "stderr",
     "output_type": "stream",
     "text": [
      "c:\\Users\\onat.postaci\\AppData\\Local\\anaconda3\\envs\\onat_env\\lib\\site-packages\\statsmodels\\tsa\\base\\tsa_model.py:473: ValueWarning: An unsupported index was provided and will be ignored when e.g. forecasting.\n",
      "  self._init_dates(dates, freq)\n",
      "c:\\Users\\onat.postaci\\AppData\\Local\\anaconda3\\envs\\onat_env\\lib\\site-packages\\statsmodels\\tsa\\base\\tsa_model.py:473: ValueWarning: An unsupported index was provided and will be ignored when e.g. forecasting.\n",
      "  self._init_dates(dates, freq)\n",
      "c:\\Users\\onat.postaci\\AppData\\Local\\anaconda3\\envs\\onat_env\\lib\\site-packages\\statsmodels\\tsa\\base\\tsa_model.py:473: ValueWarning: An unsupported index was provided and will be ignored when e.g. forecasting.\n",
      "  self._init_dates(dates, freq)\n",
      "c:\\Users\\onat.postaci\\AppData\\Local\\anaconda3\\envs\\onat_env\\lib\\site-packages\\statsmodels\\tsa\\base\\tsa_model.py:836: ValueWarning: No supported index is available. Prediction results will be given with an integer index beginning at `start`.\n",
      "  return get_prediction_index(\n",
      "c:\\Users\\onat.postaci\\AppData\\Local\\anaconda3\\envs\\onat_env\\lib\\site-packages\\statsmodels\\tsa\\base\\tsa_model.py:836: FutureWarning: No supported index is available. In the next version, calling this method in a model without a supported index will result in an exception.\n",
      "  return get_prediction_index(\n"
     ]
    },
    {
     "data": {
      "text/plain": [
       "0.0015285709881873175"
      ]
     },
     "execution_count": 3,
     "metadata": {},
     "output_type": "execute_result"
    }
   ],
   "source": [
    "# Define the ARIMA model\n",
    "model = ARIMA(close_prices_diff, order=(1, 1, 1))\n",
    "\n",
    "# Fit the ARIMA model\n",
    "model_fit = model.fit()\n",
    "\n",
    "# Forecast the next period\n",
    "forecast = model_fit.forecast(steps=1)\n",
    "\n",
    "# Convert forecast to a numpy array and extract the predicted value\n",
    "forecast_value = forecast.to_numpy()[0]\n",
    "\n",
    "# Output the forecasted value\n",
    "forecast_value\n"
   ]
  }
 ],
 "metadata": {
  "kernelspec": {
   "display_name": "onat_env",
   "language": "python",
   "name": "python3"
  },
  "language_info": {
   "codemirror_mode": {
    "name": "ipython",
    "version": 3
   },
   "file_extension": ".py",
   "mimetype": "text/x-python",
   "name": "python",
   "nbconvert_exporter": "python",
   "pygments_lexer": "ipython3",
   "version": "3.9.0"
  }
 },
 "nbformat": 4,
 "nbformat_minor": 5
}
